{
 "cells": [
  {
   "cell_type": "markdown",
   "id": "d93f71cd",
   "metadata": {},
   "source": [
    "# Calculation of interest\n",
    "\n",
    "\n",
    "Total customer=1000\n",
    "\n",
    "Average card balance = 1000\n",
    "\n",
    "Rate of interest per day=15/100 = 0.15\n",
    "\n",
    "Due time =t\n",
    "\n",
    "Interest=(PxRxT)/100\n",
    "\n",
    "Loss rate=0.03"
   ]
  },
  {
   "cell_type": "markdown",
   "id": "3320a02b",
   "metadata": {},
   "source": [
    "#                   Credit card issue amount\n",
    "\n",
    "Member fee=12*20=240\n",
    "\n",
    "affiliation fee=12*10=120\n",
    "\n",
    "Operating fee=25*12=300\n",
    "\n",
    "total amount to issue credit card per costumer=240+120-300=60\n",
    "\n",
    "total amount to issue credit card to 1000 costumer=60x1000=60000\n"
   ]
  },
  {
   "cell_type": "code",
   "execution_count": 1,
   "id": "309287c9",
   "metadata": {},
   "outputs": [],
   "source": [
    "# Delay by costumer\n",
    "# Fraction of costumer dont pay on time\n",
    "zero_delay_cust=5/100\n",
    "\n",
    "thirty_delay_cust=3/100 \n",
    "\n",
    "\n",
    "fortyfive_delay_cust=3/100 \n",
    "\n",
    "sixty_delay_cust=2/100"
   ]
  },
  {
   "cell_type": "code",
   "execution_count": 2,
   "id": "b604e48b",
   "metadata": {},
   "outputs": [],
   "source": [
    "import pandas as pd\n",
    "import numpy as np\n",
    "def interest(delay,cust_delay):\n",
    "    \n",
    "    if delay==0:\n",
    "        interest_per_card=0\n",
    "        total_interest=0\n",
    "    else:\n",
    "        interest_per_card=(1000*(30+delay)*0.15)/365\n",
    "        total_interest=12*interest_per_card*cust_delay*1000\n",
    "    return total_interest\n"
   ]
  },
  {
   "cell_type": "code",
   "execution_count": 3,
   "id": "2f36400f",
   "metadata": {},
   "outputs": [],
   "source": [
    "interest=[interest(0,zero_delay_cust),interest(30,thirty_delay_cust),interest(45,fortyfive_delay_cust),interest(60,sixty_delay_cust)]"
   ]
  },
  {
   "cell_type": "code",
   "execution_count": 4,
   "id": "cab6307b",
   "metadata": {},
   "outputs": [
    {
     "data": {
      "text/html": [
       "<div>\n",
       "<style scoped>\n",
       "    .dataframe tbody tr th:only-of-type {\n",
       "        vertical-align: middle;\n",
       "    }\n",
       "\n",
       "    .dataframe tbody tr th {\n",
       "        vertical-align: top;\n",
       "    }\n",
       "\n",
       "    .dataframe thead th {\n",
       "        text-align: right;\n",
       "    }\n",
       "</style>\n",
       "<table border=\"1\" class=\"dataframe\">\n",
       "  <thead>\n",
       "    <tr style=\"text-align: right;\">\n",
       "      <th></th>\n",
       "      <th>Details</th>\n",
       "      <th>Interest</th>\n",
       "      <th>Fixed late fee charges</th>\n",
       "    </tr>\n",
       "  </thead>\n",
       "  <tbody>\n",
       "    <tr>\n",
       "      <th>0</th>\n",
       "      <td>0 delay period</td>\n",
       "      <td>0.000000</td>\n",
       "      <td>0</td>\n",
       "    </tr>\n",
       "    <tr>\n",
       "      <th>1</th>\n",
       "      <td>30 delay period</td>\n",
       "      <td>8876.712329</td>\n",
       "      <td>50</td>\n",
       "    </tr>\n",
       "    <tr>\n",
       "      <th>2</th>\n",
       "      <td>45 delay period</td>\n",
       "      <td>11095.890411</td>\n",
       "      <td>50</td>\n",
       "    </tr>\n",
       "    <tr>\n",
       "      <th>3</th>\n",
       "      <td>60 delay period</td>\n",
       "      <td>8876.712329</td>\n",
       "      <td>50</td>\n",
       "    </tr>\n",
       "  </tbody>\n",
       "</table>\n",
       "</div>"
      ],
      "text/plain": [
       "           Details      Interest  Fixed late fee charges\n",
       "0   0 delay period      0.000000                       0\n",
       "1  30 delay period   8876.712329                      50\n",
       "2  45 delay period  11095.890411                      50\n",
       "3  60 delay period   8876.712329                      50"
      ]
     },
     "execution_count": 4,
     "metadata": {},
     "output_type": "execute_result"
    }
   ],
   "source": [
    "df=pd.DataFrame(columns=[\"Details\",\"Interest\",\"Fixed late fee charges\"])\n",
    "df[\"Interest\"]=interest\n",
    "df[\"Details\"]=[\"0 delay period\",\"30 delay period\",\"45 delay period\",\"60 delay period\"]\n",
    "df[\"Fixed late fee charges\"]=[0,50,50,50]\n",
    "df"
   ]
  },
  {
   "cell_type": "code",
   "execution_count": 5,
   "id": "a2bee52e",
   "metadata": {},
   "outputs": [
    {
     "data": {
      "text/plain": [
       "412849.31506849313"
      ]
     },
     "execution_count": 5,
     "metadata": {},
     "output_type": "execute_result"
    }
   ],
   "source": [
    "#                            Earning\n",
    "\n",
    "# Earning= member fee + affiliation fee + sum of interest + total fixed late fee \n",
    "Earning=240*1000 + 120*1000 + sum(df['Interest']) + 12*50*4/100*1000\n",
    "Earning"
   ]
  },
  {
   "cell_type": "code",
   "execution_count": 6,
   "id": "d8efa687",
   "metadata": {},
   "outputs": [
    {
     "data": {
      "text/plain": [
       "395000.0"
      ]
     },
     "execution_count": 6,
     "metadata": {},
     "output_type": "execute_result"
    }
   ],
   "source": [
    "#                             Expensive\n",
    "# Expensive=operating fee + 6.5% cost of fund +(loss rate*1000*1000)\n",
    "Expensive=12*25*1000 + 0.065*1000*1000 + 0.03*1000*1000\n",
    "Expensive"
   ]
  },
  {
   "cell_type": "code",
   "execution_count": 7,
   "id": "4a6550be",
   "metadata": {},
   "outputs": [
    {
     "data": {
      "text/html": [
       "<div>\n",
       "<style scoped>\n",
       "    .dataframe tbody tr th:only-of-type {\n",
       "        vertical-align: middle;\n",
       "    }\n",
       "\n",
       "    .dataframe tbody tr th {\n",
       "        vertical-align: top;\n",
       "    }\n",
       "\n",
       "    .dataframe thead th {\n",
       "        text-align: right;\n",
       "    }\n",
       "</style>\n",
       "<table border=\"1\" class=\"dataframe\">\n",
       "  <thead>\n",
       "    <tr style=\"text-align: right;\">\n",
       "      <th></th>\n",
       "      <th>Earning</th>\n",
       "      <th>Expensive</th>\n",
       "      <th>margin</th>\n",
       "      <th>margin%</th>\n",
       "    </tr>\n",
       "  </thead>\n",
       "  <tbody>\n",
       "    <tr>\n",
       "      <th></th>\n",
       "      <td>412849.315068</td>\n",
       "      <td>395000.0</td>\n",
       "      <td>17849.315068</td>\n",
       "      <td>4.518814</td>\n",
       "    </tr>\n",
       "  </tbody>\n",
       "</table>\n",
       "</div>"
      ],
      "text/plain": [
       "         Earning  Expensive        margin   margin%\n",
       "   412849.315068   395000.0  17849.315068  4.518814"
      ]
     },
     "execution_count": 7,
     "metadata": {},
     "output_type": "execute_result"
    }
   ],
   "source": [
    "d=pd.DataFrame({\"Earning\":Earning,\"Expensive\":Expensive,\"margin\":Earning-Expensive,\"margin%\":(Earning-Expensive)/Expensive*100}, index=[\" \"])\n",
    "d"
   ]
  },
  {
   "cell_type": "code",
   "execution_count": null,
   "id": "643be5f9",
   "metadata": {},
   "outputs": [],
   "source": [
    "# Q1)How much profit % is generated in 1 year?\n",
    "\n",
    "1) 4.52%\n",
    "\n",
    "# Q2) The 3% loss rate can either mean either 3% of the outstanding balance defaults or 3% of the borrowers\n",
    "# default on their entire balance. If the average balance is increased to $2000, what happens to the loss?\n",
    "\n",
    "2) Loss Rate means the percentage of the balance that has charged off at a particular month.\n",
    "    If avg balance increase to $2000 , loss  will be\n",
    "    Loss =loss rate*avg balance*number of customer\n",
    "    Loss=0.03*2000*1000 \n",
    "    Loss=60000\n",
    "\n",
    "# Q3) •  Is a borrower with a low balance more or less likely to default then a borrower with a high balance? Why?\n",
    "# explain clearly\n",
    "\n",
    "3) Borrower with high balance are likely to default , because they cant hold their habit of buying things and paying money anytime.\n",
    "\n",
    "# Q4) The group company has now become unhappy with the credit card provider. It wants to start its own credit\n",
    "# card. But for that, it will need to purchase the customers from the current credit card company. If the\n",
    "# affiliated group offered Rs 20 per account to purchase all the customers from the credit card company, what\n",
    "# would their profit be? (assume that we are only talking about 1 year)\n",
    "\n",
    "4)  Amount paid by other company to buy costumer =20*1000=200000rs\n",
    "      Profit generated by them in 1 year as per our rules = 23849.3rs\n",
    "      Net profit is = 23849 – 20000 = 3849rs\n",
    "\n",
    "# Q5) •  What numbers can the financial institution change to convince the affiliated group not to want to purchase,\n",
    "# while still not going into a loss? Give a range of what the new numbers are (min and max) \n",
    "\n",
    "5) If company show that there is more defaulters, then affiliated group will not purchase it.\n",
    "  .\n",
    "# Q6)  What is the extra cost(if any) company will have to incur if the customer delays the payment of the credit\n",
    "# card bill after the due date?\n",
    "\n",
    "6) Company have to gave interest to bank on delay period , if they are taking fund from bank\n",
    "\n",
    "# Q7)Is it beneficial for the company if the customer pays the credit card bill after the due date? (express yourviews as a business strategy analyst with a short example)\n",
    "\n",
    "7) When the customer pays the credit bill after the due date, company will charge some interest\n",
    "which work as a profit for credit cardcompany therefore it is beneficial for the company if the \n",
    "customer pays the credit card bill after the due date.\n"
   ]
  },
  {
   "cell_type": "code",
   "execution_count": null,
   "id": "525a8f92",
   "metadata": {},
   "outputs": [],
   "source": []
  }
 ],
 "metadata": {
  "kernelspec": {
   "display_name": "Python 3 (ipykernel)",
   "language": "python",
   "name": "python3"
  },
  "language_info": {
   "codemirror_mode": {
    "name": "ipython",
    "version": 3
   },
   "file_extension": ".py",
   "mimetype": "text/x-python",
   "name": "python",
   "nbconvert_exporter": "python",
   "pygments_lexer": "ipython3",
   "version": "3.10.4"
  }
 },
 "nbformat": 4,
 "nbformat_minor": 5
}
